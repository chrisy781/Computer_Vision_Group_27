{
  "nbformat": 4,
  "nbformat_minor": 0,
  "metadata": {
    "colab": {
      "name": "openCV_pre_processing.ipynb",
      "provenance": [],
      "collapsed_sections": []
    },
    "kernelspec": {
      "name": "python3",
      "display_name": "Python 3"
    },
    "language_info": {
      "name": "python"
    }
  },
  "cells": [
    {
      "cell_type": "code",
      "execution_count": null,
      "metadata": {
        "id": "cxiai6yrnpBi"
      },
      "outputs": [],
      "source": [
        "import numpy as np\n",
        "import cv2\n",
        "from skimage import color\n",
        "from skimage.transform import hough_circle, hough_circle_peaks\n",
        "from skimage.feature import canny\n",
        "from skimage.draw import circle_perimeter\n",
        "\n",
        "from cv2 import imread\n",
        "from cv2 import imwrite\n",
        "from google.colab.patches import cv2_imshow"
      ]
    },
    {
      "cell_type": "code",
      "source": [
        "#mount drive\n",
        "%cd ..\n",
        "from google.colab import drive\n",
        "drive.mount('/content/gdrive')\n",
        "\n",
        "# this creates a symbolic link so that now the path /content/gdrive/My\\ Drive/ is equal to /mydrive\n",
        "!ln -s /content/gdrive/My\\ Drive/ /mydrive\n",
        "\n",
        "# list the contents of /mydrive\n",
        "!ls /mydrive\n",
        "\n",
        "#Navigate to /mydrive/yolov4\n",
        "#%cd /mydrive/yolov4"
      ],
      "metadata": {
        "colab": {
          "base_uri": "https://localhost:8080/"
        },
        "id": "uLOeJQpDtZz9",
        "outputId": "dfa27e4b-a1f4-409a-9901-8b059c26e412"
      },
      "execution_count": null,
      "outputs": [
        {
          "output_type": "stream",
          "name": "stdout",
          "text": [
            "/\n",
            "Mounted at /content/gdrive\n",
            "'Bachelor WB'\t    'My Drive'\t\t   range2.jpg\n",
            " balldeflected.jpg   Overig\t\t   range2_sharp.jpg\n",
            " BUSINESS\t     put.jpg\t\t   range2_sharp_nolow.jpg\n",
            "'Colab Notebooks'    put_sharp.jpg\t   range.png\n",
            "'Master Robotics'    put_sharp_nolow.jpg   yolov4\n"
          ]
        }
      ]
    },
    {
      "cell_type": "markdown",
      "source": [
        "## Steps\n",
        "\n",
        "*   Increasing image sharpness using a kernel\n",
        "*   Removing the pixels with a brightness < 105\n",
        "\n",
        "\n"
      ],
      "metadata": {
        "id": "toLgd3jV8I-Q"
      }
    },
    {
      "cell_type": "code",
      "source": [
        "image = cv2.imread('/mydrive/range2.jpg')\n",
        "\n",
        "#sharpening method\n",
        "sharpening_filter = np.array([[0,-1,0],\n",
        "                              [-1,5,-1],\n",
        "                              [0,-1,0]])\n",
        "sharpened_image = cv2.filter2D(image,-1,sharpening_filter)\n",
        "\n",
        "print('an image sharpening filter applied to original image')\n",
        "cv2_imshow(sharpened_image)\n",
        "#cv2.imwrite('/mydrive/put_sharp.jpg', sharpened_image)\n",
        "\n",
        "print('orgininal image')\n",
        "cv2_imshow(image)\n",
        "\n",
        "print('original image excl. low brightness pixels < 105')\n",
        "ret, thresh = cv2.threshold(sharpened_image, 105, 255, cv2.THRESH_TOZERO)\n",
        "cv2_imshow(thresh)\n",
        "#cv2.imwrite('/mydrive/put_sharp_nolow.jpg',thresh)\n",
        "\n",
        "\n",
        "\n"
      ],
      "metadata": {
        "colab": {
          "base_uri": "https://localhost:8080/",
          "height": 244
        },
        "id": "pya5tLjHn5Yc",
        "outputId": "e131e75d-48ad-49c4-92bd-1231ac835d4b"
      },
      "execution_count": 2,
      "outputs": [
        {
          "output_type": "error",
          "ename": "NameError",
          "evalue": "ignored",
          "traceback": [
            "\u001b[0;31m---------------------------------------------------------------------------\u001b[0m",
            "\u001b[0;31mNameError\u001b[0m                                 Traceback (most recent call last)",
            "\u001b[0;32m<ipython-input-2-6e4db0e868a6>\u001b[0m in \u001b[0;36m<module>\u001b[0;34m()\u001b[0m\n\u001b[0;32m----> 1\u001b[0;31m \u001b[0mimage\u001b[0m \u001b[0;34m=\u001b[0m \u001b[0mcv2\u001b[0m\u001b[0;34m.\u001b[0m\u001b[0mimread\u001b[0m\u001b[0;34m(\u001b[0m\u001b[0;34m'/mydrive/range2.jpg'\u001b[0m\u001b[0;34m)\u001b[0m\u001b[0;34m\u001b[0m\u001b[0;34m\u001b[0m\u001b[0m\n\u001b[0m\u001b[1;32m      2\u001b[0m \u001b[0;34m\u001b[0m\u001b[0m\n\u001b[1;32m      3\u001b[0m \u001b[0;31m## convert to hsv\u001b[0m\u001b[0;34m\u001b[0m\u001b[0;34m\u001b[0m\u001b[0;34m\u001b[0m\u001b[0m\n\u001b[1;32m      4\u001b[0m \u001b[0mhsv\u001b[0m \u001b[0;34m=\u001b[0m \u001b[0mcv2\u001b[0m\u001b[0;34m.\u001b[0m\u001b[0mcvtColor\u001b[0m\u001b[0;34m(\u001b[0m\u001b[0mimage\u001b[0m\u001b[0;34m,\u001b[0m \u001b[0mcv2\u001b[0m\u001b[0;34m.\u001b[0m\u001b[0mCOLOR_BGR2HSV\u001b[0m\u001b[0;34m)\u001b[0m\u001b[0;34m\u001b[0m\u001b[0;34m\u001b[0m\u001b[0m\n\u001b[1;32m      5\u001b[0m \u001b[0;34m\u001b[0m\u001b[0m\n",
            "\u001b[0;31mNameError\u001b[0m: name 'cv2' is not defined"
          ]
        }
      ]
    },
    {
      "cell_type": "code",
      "source": [
        ""
      ],
      "metadata": {
        "id": "SFbfI5DqjuaC"
      },
      "execution_count": null,
      "outputs": []
    }
  ]
}